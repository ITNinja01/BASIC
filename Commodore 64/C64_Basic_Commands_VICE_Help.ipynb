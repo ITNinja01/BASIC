{
  "cells": [
    {
      "cell_type": "markdown",
      "metadata": {},
      "source": [
        "# Top Commodore 64 BASIC V2 Commands and VICE Help\n",
        "A categorized reference notebook with runnable examples and information"
      ]
    },
    {
      "cell_type": "markdown",
      "metadata": {},
      "source": [
        "## Program Control"
      ]
    },
    {
      "cell_type": "code",
      "execution_count": null,
      "metadata": {},
      "outputs": [],
      "source": [
        "REM RUN – Start program\n",
        "REM LIST – Show program listing\n",
        "REM NEW – Clear program from memory\n",
        "REM CONT – Continue after STOP\n",
        "REM STOP – Halt program execution"
      ]
    },
    {
      "cell_type": "markdown",
      "metadata": {},
      "source": [
        "### Examples"
      ]
    },
    {
      "cell_type": "code",
      "execution_count": null,
      "metadata": {},
      "outputs": [],
      "source": [
        "10 PRINT \"HELLO WORLD\"\n",
        "20 GOTO 10"
      ]
    },
    {
      "cell_type": "markdown",
      "metadata": {},
      "source": [
        "## Input/Output"
      ]
    },
    {
      "cell_type": "code",
      "execution_count": null,
      "metadata": {},
      "outputs": [],
      "source": [
        "REM PRINT – Output text or numbers\n",
        "REM INPUT – Ask user for input\n",
        "REM GET – Get single character from keyboard\n",
        "REM POKE – Write value to memory address\n",
        "REM PEEK – Read value from memory address\n",
        "REM OPEN – Open file or device\n",
        "REM CLOSE – Close file or device"
      ]
    },
    {
      "cell_type": "markdown",
      "metadata": {},
      "source": [
        "### Examples"
      ]
    },
    {
      "cell_type": "code",
      "execution_count": null,
      "metadata": {},
      "outputs": [],
      "source": [
        "10 INPUT \"WHAT IS YOUR NAME\";N$\n",
        "20 PRINT \"HELLO \";N$"
      ]
    },
    {
      "cell_type": "code",
      "execution_count": null,
      "metadata": {},
      "outputs": [],
      "source": [
        "10 GET A$\n",
        "20 IF A$=\"\" THEN 10\n",
        "30 PRINT \"YOU PRESSED \";A$"
      ]
    },
    {
      "cell_type": "markdown",
      "metadata": {},
      "source": [
        "## Math & Logic"
      ]
    },
    {
      "cell_type": "code",
      "execution_count": null,
      "metadata": {},
      "outputs": [],
      "source": [
        "REM ABS – Absolute value\n",
        "REM INT – Integer part\n",
        "REM RND – Random number\n",
        "REM SGN – Sign of number\n",
        "REM AND – Logical AND\n",
        "REM OR – Logical OR\n",
        "REM NOT – Logical NOT"
      ]
    },
    {
      "cell_type": "markdown",
      "metadata": {},
      "source": [
        "### Examples"
      ]
    },
    {
      "cell_type": "code",
      "execution_count": null,
      "metadata": {},
      "outputs": [],
      "source": [
        "10 PRINT ABS(-42)"
      ]
    },
    {
      "cell_type": "code",
      "execution_count": null,
      "metadata": {},
      "outputs": [],
      "source": [
        "10 PRINT INT(3.9)"
      ]
    },
    {
      "cell_type": "code",
      "execution_count": null,
      "metadata": {},
      "outputs": [],
      "source": [
        "10 PRINT RND(1)"
      ]
    },
    {
      "cell_type": "markdown",
      "metadata": {},
      "source": [
        "## Program Flow"
      ]
    },
    {
      "cell_type": "code",
      "execution_count": null,
      "metadata": {},
      "outputs": [],
      "source": [
        "REM GOTO – Jump to line\n",
        "REM GOSUB – Call subroutine\n",
        "REM RETURN – Return from subroutine\n",
        "REM FOR…NEXT – Loop structure\n",
        "REM IF…THEN – Conditional execution"
      ]
    },
    {
      "cell_type": "markdown",
      "metadata": {},
      "source": [
        "### Examples"
      ]
    },
    {
      "cell_type": "code",
      "execution_count": null,
      "metadata": {},
      "outputs": [],
      "source": [
        "10 FOR I=1 TO 10\n",
        "20 PRINT I\n",
        "30 NEXT I"
      ]
    },
    {
      "cell_type": "code",
      "execution_count": null,
      "metadata": {},
      "outputs": [],
      "source": [
        "10 IF 5>3 THEN PRINT \"YES\""
      ]
    },
    {
      "cell_type": "markdown",
      "metadata": {},
      "source": [
        "## Graphics & Sound"
      ]
    },
    {
      "cell_type": "code",
      "execution_count": null,
      "metadata": {},
      "outputs": [],
      "source": [
        "REM POKE 53280,x – Set border color\n",
        "REM POKE 53281,x – Set background color\n",
        "REM POKE 53272,x – Screen control\n",
        "REM POKE 54296,x – Sound control\n",
        "REM POKE 54273,x – Voice frequency low byte"
      ]
    },
    {
      "cell_type": "markdown",
      "metadata": {},
      "source": [
        "### Examples"
      ]
    },
    {
      "cell_type": "code",
      "execution_count": null,
      "metadata": {},
      "outputs": [],
      "source": [
        "10 POKE 53280,0 : REM BORDER TO BLACK"
      ]
    },
    {
      "cell_type": "code",
      "execution_count": null,
      "metadata": {},
      "outputs": [],
      "source": [
        "20 POKE 53281,6 : REM BACKGROUND TO BLUE"
      ]
    },
    {
      "cell_type": "markdown",
      "metadata": {},
      "source": [
        "## System & Memory"
      ]
    },
    {
      "cell_type": "code",
      "execution_count": null,
      "metadata": {},
      "outputs": [],
      "source": [
        "REM SYS – Call machine code routine\n",
        "REM LOAD – Load program/data\n",
        "REM SAVE – Save program/data\n",
        "REM POKE – Change memory directly\n",
        "REM PEEK – Inspect memory directly"
      ]
    },
    {
      "cell_type": "markdown",
      "metadata": {},
      "source": [
        "### Examples"
      ]
    },
    {
      "cell_type": "code",
      "execution_count": null,
      "metadata": {},
      "outputs": [],
      "source": [
        "10 PRINT PEEK(1024)"
      ]
    },
    {
      "cell_type": "code",
      "execution_count": null,
      "metadata": {},
      "outputs": [],
      "source": [
        "10 SYS 64738 : REM RESET C64"
      ]
    },
    {
      "cell_type": "markdown",
      "id": "6643d268",
      "metadata": {},
      "source": [
        "## Useful Disk Commands\n",
        "[C64 Disk Commands - Wiki ](https://www.c64-wiki.com/wiki/Drive_command)\n"
      ]
    },
    {
      "cell_type": "code",
      "execution_count": null,
      "id": "087691aa",
      "metadata": {
        "vscode": {
          "languageId": "python"
        }
      },
      "outputs": [],
      "source": [
        "Load \"program name\" , 8 \n",
        "Load \"*\" , 8\n",
        "Load\"$\" ,8\n",
        "Save \"Program Name\", 8\n"
      ]
    },
    {
      "cell_type": "code",
      "execution_count": null,
      "id": "d5ec074a",
      "metadata": {
        "vscode": {
          "languageId": "python"
        }
      },
      "outputs": [],
      "source": [
        "REM Erases what is in memory    \n",
        "New"
      ]
    },
    {
      "cell_type": "markdown",
      "id": "8de00c08",
      "metadata": {},
      "source": [
        "REM Clears the screen\n",
        "PRINT CHR$(147)"
      ]
    },
    {
      "cell_type": "code",
      "execution_count": null,
      "id": "4697ea39",
      "metadata": {
        "vscode": {
          "languageId": "python"
        }
      },
      "outputs": [],
      "source": [
        "REM Deletes a file!\n",
        "OPEN 1,8,15,\"S:TEMPFILE\":CLOSE 1 \n"
      ]
    },
    {
      "cell_type": "code",
      "execution_count": null,
      "id": "8c6dcbae",
      "metadata": {
        "vscode": {
          "languageId": "python"
        }
      },
      "outputs": [],
      "source": [
        "REM See what is in memeory\n",
        "LIST    \n",
        "PRINT \"MEMORY FREE\"; FRE(0)"
      ]
    },
    {
      "cell_type": "markdown",
      "id": "88505a89",
      "metadata": {},
      "source": [
        "## VICE Keyboard on a QWERTY keyboard.\n",
        "**BASIC\\bin\\VICE_Keyboard.gif**\n"
      ]
    },
    {
      "cell_type": "markdown",
      "id": "4c40ffd3",
      "metadata": {},
      "source": [
        "## Found this forum useful when troubleshooting joy stick issues in VICE.\n",
        "### VICE and keyboard - Where is fire button?\n",
        "Moderator: Lemoners\n",
        "\n",
        "6 posts • Page 1 of 1\n",
        "joe64\n",
        "Posts: 5\n",
        "Joined: Tue May 24, 2016 8:26 am\n",
        "VICE and keyboard - Where is fire button?\n",
        "Post by joe64 » Tue May 24, 2016 6:02 pm\n",
        "\n",
        "I was searching for an old overhead car racing game and thanks to your help I found its name: it was \"Super Cars\".\n",
        "I installed VICE emulator on my Linux system and I found also a \".d64\" file of that game. I can boot and load that game, but I can't start it (maybe due to my keyboard mapping).\n",
        "I suspect \"Fire\" button is not well mapped.\n",
        "\n",
        "My keyboard, is a standard keyboard \"qwerty\" with italian layout.. nothing special. I'd like to be able to give a try at that old game using my PC with Linux and just my keyboard. No joystick nor game-pad...\n",
        "\n",
        "I'd also try an other file .d64, related to an other game \"Green Berret\".\n",
        "The game is loaded correctly, the I press space and it run, it ask if I want infinite ammo and \"Y\" or \"N\" keys work fine.\n",
        "But finally when \"press fire button to start\" appears, I can't find a \"Fire\" button on my keyboard. I tried Right-CTRL, but the game doesn't begin...\n",
        "\n",
        "Have you any suggests on configuration of VICE and key mapping... if that is the problem?\n",
        "Top\n",
        "tfg\n",
        "Zorro\n",
        "Zorro\n",
        "Posts: 1274\n",
        "Joined: Wed Jan 02, 2008 8:40 pm\n",
        "Location: synaptic wastelands\n",
        "Age: 52\n",
        "Post by tfg » Tue May 24, 2016 6:43 pm\n",
        "\n",
        "If you want to use the keyboard to emulate a joystick you first have to set it up under settings->joystick settings. Most games expect the joystick in port #2, so this should be the one to assign a keyset to. In the rare case a game expects it in port #1 you can swap the ports on the fly with ALT+J.\n",
        "If it looks like a duck, swims like a duck, and quacks like a duck the chicken is obviously trolling you.\n",
        "Top\n",
        "joe64\n",
        "Posts: 5\n",
        "Joined: Tue May 24, 2016 8:26 am\n",
        "Post by joe64 » Tue May 24, 2016 7:11 pm\n",
        "\n",
        "Thank you, I tried following steps:\n",
        "\n",
        "- joystick setup\n",
        "- port 1\n",
        "- keyset A\n",
        "\n",
        "- joystick setup\n",
        "- port 2\n",
        "- keyset B\n",
        "\n",
        "- allow joystick keyset\n",
        "\n",
        "define keyset:\n",
        "- keyset 1: north-up, east-right, south-down, west-left, fire-ctrl_right\n",
        "- keyset 2: north-up, east-right, south-down, west-left, fire-ctrl_right\n",
        "\n",
        "But when I press Fire button, nothing starts...\n",
        "Top\n",
        "tfg\n",
        "Zorro\n",
        "Zorro\n",
        "Posts: 1274\n",
        "Joined: Wed Jan 02, 2008 8:40 pm\n",
        "Location: synaptic wastelands\n",
        "Age: 52\n",
        "Post by tfg » Tue May 24, 2016 7:14 pm\n",
        "\n",
        "IIRC Vice doesn't like it when the same keys are assigned to both joysticks, try to set port 1 to \"none\" and see if that helps.\n",
        "If it looks like a duck, swims like a duck, and quacks like a duck the chicken is obviously trolling you.\n",
        "Top\n",
        "donlw3rd\n",
        "Jack The Nipper\n",
        "Jack The Nipper\n",
        "Posts: 600\n",
        "Joined: Tue Feb 21, 2012 7:02 pm\n",
        "Post by donlw3rd » Tue May 24, 2016 8:43 pm\n",
        "\n",
        "no need to set the same keys to ports ports. you can swap joysticks using \"ALT +J\"\n",
        "Top\n",
        "joe64\n",
        "Posts: 5\n",
        "Joined: Tue May 24, 2016 8:26 am\n",
        "Post by joe64 » Wed May 25, 2016 8:16 am\n",
        "\n",
        "Your suggest solved the problem!\n",
        "\n",
        "Thanks a lot!\n",
        "Bye"
      ]
    },
    {
      "cell_type": "markdown",
      "id": "bd7826f4",
      "metadata": {},
      "source": [
        "## VS Code with BASIC/VICE\n",
        "*When creating code in VS Code all code should be lowercase for when copying into VICE, it will be in the correct simple text."
      ]
    }
  ],
  "metadata": {
    "kernelspec": {
      "display_name": "Commodore 64 BASIC (emulated)",
      "language": "basic",
      "name": "c64-basic"
    },
    "language_info": {
      "codemirror_mode": "vb",
      "file_extension": ".bas",
      "mimetype": "text/x-basic",
      "name": "basic",
      "pygments_lexer": "vbnet"
    }
  },
  "nbformat": 4,
  "nbformat_minor": 5
}
