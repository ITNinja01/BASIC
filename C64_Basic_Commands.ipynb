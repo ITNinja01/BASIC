{
  "cells": [
    {
      "cell_type": "markdown",
      "metadata": {},
      "source": [
        "# Top Commodore 64 BASIC V2 Commands\n",
        "A categorized reference notebook with runnable examples"
      ]
    },
    {
      "cell_type": "markdown",
      "metadata": {},
      "source": [
        "## Program Control"
      ]
    },
    {
      "cell_type": "code",
      "metadata": {},
      "execution_count": null,
      "outputs": [],
      "source": [
        "REM RUN \u2013 Start program\n",
        "REM LIST \u2013 Show program listing\n",
        "REM NEW \u2013 Clear program from memory\n",
        "REM CONT \u2013 Continue after STOP\n",
        "REM STOP \u2013 Halt program execution"
      ]
    },
    {
      "cell_type": "markdown",
      "metadata": {},
      "source": [
        "### Examples"
      ]
    },
    {
      "cell_type": "code",
      "metadata": {},
      "execution_count": null,
      "outputs": [],
      "source": [
        "10 PRINT \"HELLO WORLD\"\n",
        "20 GOTO 10"
      ]
    },
    {
      "cell_type": "markdown",
      "metadata": {},
      "source": [
        "## Input/Output"
      ]
    },
    {
      "cell_type": "code",
      "metadata": {},
      "execution_count": null,
      "outputs": [],
      "source": [
        "REM PRINT \u2013 Output text or numbers\n",
        "REM INPUT \u2013 Ask user for input\n",
        "REM GET \u2013 Get single character from keyboard\n",
        "REM POKE \u2013 Write value to memory address\n",
        "REM PEEK \u2013 Read value from memory address\n",
        "REM OPEN \u2013 Open file or device\n",
        "REM CLOSE \u2013 Close file or device"
      ]
    },
    {
      "cell_type": "markdown",
      "metadata": {},
      "source": [
        "### Examples"
      ]
    },
    {
      "cell_type": "code",
      "metadata": {},
      "execution_count": null,
      "outputs": [],
      "source": [
        "10 INPUT \"WHAT IS YOUR NAME\";N$\n",
        "20 PRINT \"HELLO \";N$"
      ]
    },
    {
      "cell_type": "code",
      "metadata": {},
      "execution_count": null,
      "outputs": [],
      "source": [
        "10 GET A$\n",
        "20 IF A$=\"\" THEN 10\n",
        "30 PRINT \"YOU PRESSED \";A$"
      ]
    },
    {
      "cell_type": "markdown",
      "metadata": {},
      "source": [
        "## Math & Logic"
      ]
    },
    {
      "cell_type": "code",
      "metadata": {},
      "execution_count": null,
      "outputs": [],
      "source": [
        "REM ABS \u2013 Absolute value\n",
        "REM INT \u2013 Integer part\n",
        "REM RND \u2013 Random number\n",
        "REM SGN \u2013 Sign of number\n",
        "REM AND \u2013 Logical AND\n",
        "REM OR \u2013 Logical OR\n",
        "REM NOT \u2013 Logical NOT"
      ]
    },
    {
      "cell_type": "markdown",
      "metadata": {},
      "source": [
        "### Examples"
      ]
    },
    {
      "cell_type": "code",
      "metadata": {},
      "execution_count": null,
      "outputs": [],
      "source": [
        "10 PRINT ABS(-42)"
      ]
    },
    {
      "cell_type": "code",
      "metadata": {},
      "execution_count": null,
      "outputs": [],
      "source": [
        "10 PRINT INT(3.9)"
      ]
    },
    {
      "cell_type": "code",
      "metadata": {},
      "execution_count": null,
      "outputs": [],
      "source": [
        "10 PRINT RND(1)"
      ]
    },
    {
      "cell_type": "markdown",
      "metadata": {},
      "source": [
        "## Program Flow"
      ]
    },
    {
      "cell_type": "code",
      "metadata": {},
      "execution_count": null,
      "outputs": [],
      "source": [
        "REM GOTO \u2013 Jump to line\n",
        "REM GOSUB \u2013 Call subroutine\n",
        "REM RETURN \u2013 Return from subroutine\n",
        "REM FOR\u2026NEXT \u2013 Loop structure\n",
        "REM IF\u2026THEN \u2013 Conditional execution"
      ]
    },
    {
      "cell_type": "markdown",
      "metadata": {},
      "source": [
        "### Examples"
      ]
    },
    {
      "cell_type": "code",
      "metadata": {},
      "execution_count": null,
      "outputs": [],
      "source": [
        "10 FOR I=1 TO 10\n",
        "20 PRINT I\n",
        "30 NEXT I"
      ]
    },
    {
      "cell_type": "code",
      "metadata": {},
      "execution_count": null,
      "outputs": [],
      "source": [
        "10 IF 5>3 THEN PRINT \"YES\""
      ]
    },
    {
      "cell_type": "markdown",
      "metadata": {},
      "source": [
        "## Graphics & Sound"
      ]
    },
    {
      "cell_type": "code",
      "metadata": {},
      "execution_count": null,
      "outputs": [],
      "source": [
        "REM POKE 53280,x \u2013 Set border color\n",
        "REM POKE 53281,x \u2013 Set background color\n",
        "REM POKE 53272,x \u2013 Screen control\n",
        "REM POKE 54296,x \u2013 Sound control\n",
        "REM POKE 54273,x \u2013 Voice frequency low byte"
      ]
    },
    {
      "cell_type": "markdown",
      "metadata": {},
      "source": [
        "### Examples"
      ]
    },
    {
      "cell_type": "code",
      "metadata": {},
      "execution_count": null,
      "outputs": [],
      "source": [
        "10 POKE 53280,0 : REM BORDER TO BLACK"
      ]
    },
    {
      "cell_type": "code",
      "metadata": {},
      "execution_count": null,
      "outputs": [],
      "source": [
        "20 POKE 53281,6 : REM BACKGROUND TO BLUE"
      ]
    },
    {
      "cell_type": "markdown",
      "metadata": {},
      "source": [
        "## System & Memory"
      ]
    },
    {
      "cell_type": "code",
      "metadata": {},
      "execution_count": null,
      "outputs": [],
      "source": [
        "REM SYS \u2013 Call machine code routine\n",
        "REM LOAD \u2013 Load program/data\n",
        "REM SAVE \u2013 Save program/data\n",
        "REM POKE \u2013 Change memory directly\n",
        "REM PEEK \u2013 Inspect memory directly"
      ]
    },
    {
      "cell_type": "markdown",
      "metadata": {},
      "source": [
        "### Examples"
      ]
    },
    {
      "cell_type": "code",
      "metadata": {},
      "execution_count": null,
      "outputs": [],
      "source": [
        "10 PRINT PEEK(1024)"
      ]
    },
    {
      "cell_type": "code",
      "metadata": {},
      "execution_count": null,
      "outputs": [],
      "source": [
        "10 SYS 64738 : REM RESET C64"
      ]
    }
  ],
  "metadata": {
    "kernelspec": {
      "display_name": "Commodore 64 BASIC (emulated)",
      "language": "basic",
      "name": "c64-basic"
    },
    "language_info": {
      "file_extension": ".bas",
      "mimetype": "text/x-basic",
      "name": "basic",
      "pygments_lexer": "vbnet",
      "codemirror_mode": "vb"
    }
  },
  "nbformat": 4,
  "nbformat_minor": 5
}